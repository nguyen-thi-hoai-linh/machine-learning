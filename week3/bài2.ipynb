{
  "nbformat": 4,
  "nbformat_minor": 0,
  "metadata": {
    "colab": {
      "name": "bài2.ipynb",
      "provenance": []
    },
    "kernelspec": {
      "name": "python3",
      "display_name": "Python 3"
    },
    "language_info": {
      "name": "python"
    }
  },
  "cells": [
    {
      "cell_type": "code",
      "metadata": {
        "colab": {
          "base_uri": "https://localhost:8080/"
        },
        "id": "wPWSywomzxRl",
        "outputId": "4c1b0fb1-7a5f-4162-e01b-beab59463bf3"
      },
      "source": [
        "import pandas as pd \n",
        "import numpy as np \n",
        "import matplotlib.pyplot as plt\n",
        "dt = pd.read_csv(\"https://raw.githubusercontent.com/nttuan8/DL_Tutorial/master/L1/data_linear.csv\")\n",
        "dt.head()\n",
        "dt.columns"
      ],
      "execution_count": 32,
      "outputs": [
        {
          "output_type": "execute_result",
          "data": {
            "text/plain": [
              "Index(['Diện tích', 'Giá'], dtype='object')"
            ]
          },
          "metadata": {},
          "execution_count": 32
        }
      ]
    },
    {
      "cell_type": "code",
      "metadata": {
        "colab": {
          "base_uri": "https://localhost:8080/"
        },
        "id": "VzHB1niD7fsH",
        "outputId": "dd104fec-534c-4cf8-e4f1-5d1bedaacf6f"
      },
      "source": [
        "X = dt[['Diện tích']]\n",
        "x = pd.Series([1 for i in range(len(X))]) \n",
        "X = X.assign(col = x)\n",
        "X[['Diện tích']], X[['col']] = X[['col']],X[['Diện tích']]\n",
        "X = X.rename(columns={'Diện tích': 'col','col' : 'Diện tích'})\n",
        "print(X)"
      ],
      "execution_count": 33,
      "outputs": [
        {
          "output_type": "stream",
          "name": "stdout",
          "text": [
            "    col  Diện tích\n",
            "0     1    30.0000\n",
            "1     1    32.4138\n",
            "2     1    34.8276\n",
            "3     1    37.2414\n",
            "4     1    39.6552\n",
            "5     1    42.0690\n",
            "6     1    44.4828\n",
            "7     1    46.8966\n",
            "8     1    49.3103\n",
            "9     1    51.7241\n",
            "10    1    54.1379\n",
            "11    1    56.5517\n",
            "12    1    58.9655\n",
            "13    1    61.3793\n",
            "14    1    63.7931\n",
            "15    1    66.2069\n",
            "16    1    68.6207\n",
            "17    1    71.0345\n",
            "18    1    73.4483\n",
            "19    1    75.8621\n",
            "20    1    78.2759\n",
            "21    1    80.6897\n",
            "22    1    83.1034\n",
            "23    1    85.5172\n",
            "24    1    87.9310\n",
            "25    1    90.3448\n",
            "26    1    92.7586\n",
            "27    1    95.1724\n",
            "28    1    97.5862\n",
            "29    1   100.0000\n"
          ]
        }
      ]
    },
    {
      "cell_type": "code",
      "metadata": {
        "colab": {
          "base_uri": "https://localhost:8080/"
        },
        "id": "0_vga9OO46wG",
        "outputId": "f9b174c9-16ef-417e-a2b9-9252b5e6dc76"
      },
      "source": [
        "t = dt[['Giá']]\n",
        "t.head"
      ],
      "execution_count": 34,
      "outputs": [
        {
          "output_type": "execute_result",
          "data": {
            "text/plain": [
              "<bound method NDFrame.head of          Giá\n",
              "0    448.524\n",
              "1    509.248\n",
              "2    535.104\n",
              "3    551.432\n",
              "4    623.418\n",
              "5    625.992\n",
              "6    655.248\n",
              "7    701.377\n",
              "8    748.918\n",
              "9    757.881\n",
              "10   831.004\n",
              "11   855.409\n",
              "12   866.707\n",
              "13   902.545\n",
              "14   952.261\n",
              "15   995.531\n",
              "16  1069.780\n",
              "17  1074.420\n",
              "18  1103.880\n",
              "19  1138.690\n",
              "20  1153.130\n",
              "21  1240.270\n",
              "22  1251.900\n",
              "23  1287.970\n",
              "24  1320.470\n",
              "25  1374.920\n",
              "26  1410.160\n",
              "27  1469.690\n",
              "28  1478.540\n",
              "29  1515.280>"
            ]
          },
          "metadata": {},
          "execution_count": 34
        }
      ]
    },
    {
      "cell_type": "code",
      "metadata": {
        "id": "zUqprLNHvEoI",
        "colab": {
          "base_uri": "https://localhost:8080/"
        },
        "outputId": "75880abb-0cce-4b60-ee68-30074d43ccfa"
      },
      "source": [
        "X = X.to_numpy()\n",
        "X_T = X.transpose()\n",
        "X_T"
      ],
      "execution_count": 35,
      "outputs": [
        {
          "output_type": "execute_result",
          "data": {
            "text/plain": [
              "array([[  1.    ,   1.    ,   1.    ,   1.    ,   1.    ,   1.    ,\n",
              "          1.    ,   1.    ,   1.    ,   1.    ,   1.    ,   1.    ,\n",
              "          1.    ,   1.    ,   1.    ,   1.    ,   1.    ,   1.    ,\n",
              "          1.    ,   1.    ,   1.    ,   1.    ,   1.    ,   1.    ,\n",
              "          1.    ,   1.    ,   1.    ,   1.    ,   1.    ,   1.    ],\n",
              "       [ 30.    ,  32.4138,  34.8276,  37.2414,  39.6552,  42.069 ,\n",
              "         44.4828,  46.8966,  49.3103,  51.7241,  54.1379,  56.5517,\n",
              "         58.9655,  61.3793,  63.7931,  66.2069,  68.6207,  71.0345,\n",
              "         73.4483,  75.8621,  78.2759,  80.6897,  83.1034,  85.5172,\n",
              "         87.931 ,  90.3448,  92.7586,  95.1724,  97.5862, 100.    ]])"
            ]
          },
          "metadata": {},
          "execution_count": 35
        }
      ]
    },
    {
      "cell_type": "code",
      "metadata": {
        "colab": {
          "base_uri": "https://localhost:8080/"
        },
        "id": "WdYtTPv96_sL",
        "outputId": "ada12492-0e4a-44a6-ede6-7598f541fad3"
      },
      "source": [
        "w = (np.linalg.inv(X_T.dot(X)))\n",
        "w = w.dot(X_T)\n",
        "w = w.dot(t)\n",
        "w\n"
      ],
      "execution_count": 36,
      "outputs": [
        {
          "output_type": "execute_result",
          "data": {
            "text/plain": [
              "array([[-7.06426865],\n",
              "       [15.2110908 ]])"
            ]
          },
          "metadata": {},
          "execution_count": 36
        }
      ]
    },
    {
      "cell_type": "code",
      "metadata": {
        "id": "t2iahycm8PNL"
      },
      "source": [
        "def GiaNha(number):\n",
        "  y = w[1,0] * number + w[0,0]\n",
        "  return y\n",
        "  "
      ],
      "execution_count": 37,
      "outputs": []
    },
    {
      "cell_type": "code",
      "metadata": {
        "colab": {
          "base_uri": "https://localhost:8080/",
          "height": 282
        },
        "id": "erto08WrD73t",
        "outputId": "afe86cdc-8a96-4621-deee-efecf3314e3a"
      },
      "source": [
        "plt.scatter(dt[['Diện tích']], dt[['Giá']])\n",
        "line = [GiaNha(number) for number in dt['Diện tích']]\n",
        "plt.plot(dt['Diện tích'],line)"
      ],
      "execution_count": 41,
      "outputs": [
        {
          "output_type": "execute_result",
          "data": {
            "text/plain": [
              "[<matplotlib.lines.Line2D at 0x7f615aaeec90>]"
            ]
          },
          "metadata": {},
          "execution_count": 41
        },
        {
          "output_type": "display_data",
          "data": {
            "image/png": "[encoded data removed]",
            "text/plain": [
              "<Figure size 432x288 with 1 Axes>"
            ]
          },
          "metadata": {
            "needs_background": "light"
          }
        }
      ]
    },
    {
      "cell_type": "code",
      "metadata": {
        "colab": {
          "base_uri": "https://localhost:8080/"
        },
        "id": "keeK5DfD8oLu",
        "outputId": "cdf6dd84-284c-48b8-e215-5066fdc03c76"
      },
      "source": [
        "GiaNha(50)"
      ],
      "execution_count": 21,
      "outputs": [
        {
          "output_type": "execute_result",
          "data": {
            "text/plain": [
              "753.4902713382758"
            ]
          },
          "metadata": {},
          "execution_count": 21
        }
      ]
    },
    {
      "cell_type": "code",
      "metadata": {
        "colab": {
          "base_uri": "https://localhost:8080/"
        },
        "id": "owOTbi2u8viE",
        "outputId": "84470107-f0bb-49df-a331-f13c1eba58c7"
      },
      "source": [
        "GiaNha(100)"
      ],
      "execution_count": 22,
      "outputs": [
        {
          "output_type": "execute_result",
          "data": {
            "text/plain": [
              "1514.0448113217967"
            ]
          },
          "metadata": {},
          "execution_count": 22
        }
      ]
    },
    {
      "cell_type": "code",
      "metadata": {
        "colab": {
          "base_uri": "https://localhost:8080/"
        },
        "id": "pi06tkKo8zA2",
        "outputId": "01bd361e-5d53-4034-d75e-9a322982d3a1"
      },
      "source": [
        "GiaNha(150)"
      ],
      "execution_count": 23,
      "outputs": [
        {
          "output_type": "execute_result",
          "data": {
            "text/plain": [
              "2274.5993513053177"
            ]
          },
          "metadata": {},
          "execution_count": 23
        }
      ]
    }
  ]
}